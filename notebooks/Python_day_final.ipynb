{
 "cells": [
  {
   "cell_type": "markdown",
   "source": [
    "Welcome to Python class\n",
    "==\n",
    "## *Final Day ^^*"
   ],
   "metadata": {
    "collapsed": false
   }
  },
  {
   "cell_type": "markdown",
   "source": [
    "## We will practice today\n"
   ],
   "metadata": {
    "collapsed": false,
    "pycharm": {
     "name": "#%% md\n"
    }
   }
  },
  {
   "cell_type": "markdown",
   "source": [
    "### Exercise Question 1: Define a function: Print multiplication table of given number\n",
    "\n",
    "*For example num = 2 so the output should be<br/>\n",
    "2<br/>\n",
    "4<br/>\n",
    "6<br/>\n",
    "8<br/>\n",
    "10<br/>\n",
    "12<br/>\n",
    "14<br/>\n",
    "16<br/>\n",
    "18<br/>\n",
    "20*"
   ],
   "metadata": {
    "collapsed": false
   }
  },
  {
   "cell_type": "markdown",
   "source": [
    "### Exercise Question 2: Given a list iterate it and display numbers which are divisible by 5 and if you find number greater than 150 stop the loop iteration\n",
    "*For example:<br/>\n",
    "list1 = [12, 15, 32, 42, 55, 75, 122, 132, 150, 180, 200]<br/>\n",
    "Expected output:<br/>\n",
    "15<br/>\n",
    "55<br/>\n",
    "75<br/>\n",
    "150*"
   ],
   "metadata": {
    "collapsed": false
   }
  }
 ],
 "metadata": {
  "kernelspec": {
   "display_name": "Python 3",
   "language": "python",
   "name": "python3"
  },
  "language_info": {
   "codemirror_mode": {
    "name": "ipython",
    "version": 2
   },
   "file_extension": ".py",
   "mimetype": "text/x-python",
   "name": "python",
   "nbconvert_exporter": "python",
   "pygments_lexer": "ipython2",
   "version": "2.7.6"
  }
 },
 "nbformat": 4,
 "nbformat_minor": 0
}